{
 "cells": [
  {
   "cell_type": "code",
   "execution_count": 1,
   "metadata": {},
   "outputs": [],
   "source": [
    "import pandas as pd\n",
    "import numpy as np\n",
    "pd.options.display.max_columns = None\n",
    "import seaborn as sns\n",
    "import matplotlib.pyplot as plt\n",
    "\n",
    "%matplotlib inline"
   ]
  },
  {
   "cell_type": "code",
   "execution_count": 2,
   "metadata": {},
   "outputs": [
    {
     "data": {
      "text/html": [
       "<div>\n",
       "<style scoped>\n",
       "    .dataframe tbody tr th:only-of-type {\n",
       "        vertical-align: middle;\n",
       "    }\n",
       "\n",
       "    .dataframe tbody tr th {\n",
       "        vertical-align: top;\n",
       "    }\n",
       "\n",
       "    .dataframe thead th {\n",
       "        text-align: right;\n",
       "    }\n",
       "</style>\n",
       "<table border=\"1\" class=\"dataframe\">\n",
       "  <thead>\n",
       "    <tr style=\"text-align: right;\">\n",
       "      <th></th>\n",
       "      <th>DRAIN_SQKM</th>\n",
       "      <th>HYDRO_DISTURB_INDX</th>\n",
       "      <th>WD_BASIN</th>\n",
       "      <th>SNOW_PCT_PRECIP</th>\n",
       "      <th>PRECIP_SEAS_IND</th>\n",
       "      <th>STREAMS_KM_SQ_KM</th>\n",
       "      <th>MAINSTEM_SINUOUSITY</th>\n",
       "      <th>TOPWET</th>\n",
       "      <th>RUNAVE7100</th>\n",
       "      <th>PCT_1ST_ORDER</th>\n",
       "      <th>PCT_6TH_ORDER_OR_MORE</th>\n",
       "      <th>NDAMS_2009</th>\n",
       "      <th>CANALS_PCT</th>\n",
       "      <th>PCT_IRRIG_AG</th>\n",
       "      <th>HIRES_LENTIC_DENS</th>\n",
       "      <th>HIRES_LENTIC_MEANSIZ</th>\n",
       "      <th>CLAYAVE</th>\n",
       "      <th>SILTAVE</th>\n",
       "      <th>SANDAVE</th>\n",
       "      <th>leadtime</th>\n",
       "      <th>rsr</th>\n",
       "      <th>perf_cat</th>\n",
       "      <th>is_ref</th>\n",
       "    </tr>\n",
       "    <tr>\n",
       "      <th>site_no</th>\n",
       "      <th></th>\n",
       "      <th></th>\n",
       "      <th></th>\n",
       "      <th></th>\n",
       "      <th></th>\n",
       "      <th></th>\n",
       "      <th></th>\n",
       "      <th></th>\n",
       "      <th></th>\n",
       "      <th></th>\n",
       "      <th></th>\n",
       "      <th></th>\n",
       "      <th></th>\n",
       "      <th></th>\n",
       "      <th></th>\n",
       "      <th></th>\n",
       "      <th></th>\n",
       "      <th></th>\n",
       "      <th></th>\n",
       "      <th></th>\n",
       "      <th></th>\n",
       "      <th></th>\n",
       "      <th></th>\n",
       "    </tr>\n",
       "  </thead>\n",
       "  <tbody>\n",
       "    <tr>\n",
       "      <th>01011000</th>\n",
       "      <td>3186.8</td>\n",
       "      <td>8.0</td>\n",
       "      <td>133.4</td>\n",
       "      <td>37.5</td>\n",
       "      <td>0.11</td>\n",
       "      <td>0.57</td>\n",
       "      <td>1.53</td>\n",
       "      <td>11.5</td>\n",
       "      <td>484.4</td>\n",
       "      <td>62.27</td>\n",
       "      <td>0.0</td>\n",
       "      <td>2.0</td>\n",
       "      <td>0.0</td>\n",
       "      <td>0.0</td>\n",
       "      <td>0.231</td>\n",
       "      <td>177.2</td>\n",
       "      <td>18.36</td>\n",
       "      <td>59.77</td>\n",
       "      <td>21.87</td>\n",
       "      <td>1.0</td>\n",
       "      <td>0.07</td>\n",
       "      <td>good</td>\n",
       "      <td>0</td>\n",
       "    </tr>\n",
       "    <tr>\n",
       "      <th>01011000</th>\n",
       "      <td>3186.8</td>\n",
       "      <td>8.0</td>\n",
       "      <td>133.4</td>\n",
       "      <td>37.5</td>\n",
       "      <td>0.11</td>\n",
       "      <td>0.57</td>\n",
       "      <td>1.53</td>\n",
       "      <td>11.5</td>\n",
       "      <td>484.4</td>\n",
       "      <td>62.27</td>\n",
       "      <td>0.0</td>\n",
       "      <td>2.0</td>\n",
       "      <td>0.0</td>\n",
       "      <td>0.0</td>\n",
       "      <td>0.231</td>\n",
       "      <td>177.2</td>\n",
       "      <td>18.36</td>\n",
       "      <td>59.77</td>\n",
       "      <td>21.87</td>\n",
       "      <td>2.0</td>\n",
       "      <td>0.35</td>\n",
       "      <td>good</td>\n",
       "      <td>0</td>\n",
       "    </tr>\n",
       "    <tr>\n",
       "      <th>01011000</th>\n",
       "      <td>3186.8</td>\n",
       "      <td>8.0</td>\n",
       "      <td>133.4</td>\n",
       "      <td>37.5</td>\n",
       "      <td>0.11</td>\n",
       "      <td>0.57</td>\n",
       "      <td>1.53</td>\n",
       "      <td>11.5</td>\n",
       "      <td>484.4</td>\n",
       "      <td>62.27</td>\n",
       "      <td>0.0</td>\n",
       "      <td>2.0</td>\n",
       "      <td>0.0</td>\n",
       "      <td>0.0</td>\n",
       "      <td>0.231</td>\n",
       "      <td>177.2</td>\n",
       "      <td>18.36</td>\n",
       "      <td>59.77</td>\n",
       "      <td>21.87</td>\n",
       "      <td>3.0</td>\n",
       "      <td>0.41</td>\n",
       "      <td>good</td>\n",
       "      <td>0</td>\n",
       "    </tr>\n",
       "    <tr>\n",
       "      <th>01011000</th>\n",
       "      <td>3186.8</td>\n",
       "      <td>8.0</td>\n",
       "      <td>133.4</td>\n",
       "      <td>37.5</td>\n",
       "      <td>0.11</td>\n",
       "      <td>0.57</td>\n",
       "      <td>1.53</td>\n",
       "      <td>11.5</td>\n",
       "      <td>484.4</td>\n",
       "      <td>62.27</td>\n",
       "      <td>0.0</td>\n",
       "      <td>2.0</td>\n",
       "      <td>0.0</td>\n",
       "      <td>0.0</td>\n",
       "      <td>0.231</td>\n",
       "      <td>177.2</td>\n",
       "      <td>18.36</td>\n",
       "      <td>59.77</td>\n",
       "      <td>21.87</td>\n",
       "      <td>4.0</td>\n",
       "      <td>0.38</td>\n",
       "      <td>good</td>\n",
       "      <td>0</td>\n",
       "    </tr>\n",
       "    <tr>\n",
       "      <th>01011000</th>\n",
       "      <td>3186.8</td>\n",
       "      <td>8.0</td>\n",
       "      <td>133.4</td>\n",
       "      <td>37.5</td>\n",
       "      <td>0.11</td>\n",
       "      <td>0.57</td>\n",
       "      <td>1.53</td>\n",
       "      <td>11.5</td>\n",
       "      <td>484.4</td>\n",
       "      <td>62.27</td>\n",
       "      <td>0.0</td>\n",
       "      <td>2.0</td>\n",
       "      <td>0.0</td>\n",
       "      <td>0.0</td>\n",
       "      <td>0.231</td>\n",
       "      <td>177.2</td>\n",
       "      <td>18.36</td>\n",
       "      <td>59.77</td>\n",
       "      <td>21.87</td>\n",
       "      <td>5.0</td>\n",
       "      <td>0.50</td>\n",
       "      <td>good</td>\n",
       "      <td>0</td>\n",
       "    </tr>\n",
       "  </tbody>\n",
       "</table>\n",
       "</div>"
      ],
      "text/plain": [
       "          DRAIN_SQKM  HYDRO_DISTURB_INDX  WD_BASIN  SNOW_PCT_PRECIP  \\\n",
       "site_no                                                               \n",
       "01011000      3186.8                 8.0     133.4             37.5   \n",
       "01011000      3186.8                 8.0     133.4             37.5   \n",
       "01011000      3186.8                 8.0     133.4             37.5   \n",
       "01011000      3186.8                 8.0     133.4             37.5   \n",
       "01011000      3186.8                 8.0     133.4             37.5   \n",
       "\n",
       "          PRECIP_SEAS_IND  STREAMS_KM_SQ_KM  MAINSTEM_SINUOUSITY  TOPWET  \\\n",
       "site_no                                                                    \n",
       "01011000             0.11              0.57                 1.53    11.5   \n",
       "01011000             0.11              0.57                 1.53    11.5   \n",
       "01011000             0.11              0.57                 1.53    11.5   \n",
       "01011000             0.11              0.57                 1.53    11.5   \n",
       "01011000             0.11              0.57                 1.53    11.5   \n",
       "\n",
       "          RUNAVE7100  PCT_1ST_ORDER  PCT_6TH_ORDER_OR_MORE  NDAMS_2009  \\\n",
       "site_no                                                                  \n",
       "01011000       484.4          62.27                    0.0         2.0   \n",
       "01011000       484.4          62.27                    0.0         2.0   \n",
       "01011000       484.4          62.27                    0.0         2.0   \n",
       "01011000       484.4          62.27                    0.0         2.0   \n",
       "01011000       484.4          62.27                    0.0         2.0   \n",
       "\n",
       "          CANALS_PCT  PCT_IRRIG_AG  HIRES_LENTIC_DENS  HIRES_LENTIC_MEANSIZ  \\\n",
       "site_no                                                                       \n",
       "01011000         0.0           0.0              0.231                 177.2   \n",
       "01011000         0.0           0.0              0.231                 177.2   \n",
       "01011000         0.0           0.0              0.231                 177.2   \n",
       "01011000         0.0           0.0              0.231                 177.2   \n",
       "01011000         0.0           0.0              0.231                 177.2   \n",
       "\n",
       "          CLAYAVE  SILTAVE  SANDAVE  leadtime   rsr perf_cat  is_ref  \n",
       "site_no                                                               \n",
       "01011000    18.36    59.77    21.87       1.0  0.07     good       0  \n",
       "01011000    18.36    59.77    21.87       2.0  0.35     good       0  \n",
       "01011000    18.36    59.77    21.87       3.0  0.41     good       0  \n",
       "01011000    18.36    59.77    21.87       4.0  0.38     good       0  \n",
       "01011000    18.36    59.77    21.87       5.0  0.50     good       0  "
      ]
     },
     "execution_count": 2,
     "metadata": {},
     "output_type": "execute_result"
    }
   ],
   "source": [
    "# Read in the cleaned data from basin_char_eda.ipynb\n",
    "master_df = pd.read_parquet('../data/cleaned_df.parquet')\n",
    "master_df.head()"
   ]
  },
  {
   "cell_type": "markdown",
   "metadata": {},
   "source": [
    "# Random Forest\n",
    "The following section fits a random forest model using basin characteristics as features and `perf_cat` label as target. A forecast is labeled `good` if the RSR value of the forecast at a given leadtime is > 0.7.\n",
    "\n",
    "The goal of this exercise is two fold:\n",
    "1) Examine the feature importances as a functino of leadtime\n",
    "2) Predict class of a forecast based solely off of basin characteristics."
   ]
  },
  {
   "cell_type": "markdown",
   "metadata": {},
   "source": [
    "## Build classifier model\n",
    "### Import libraries"
   ]
  },
  {
   "cell_type": "code",
   "execution_count": 3,
   "metadata": {},
   "outputs": [],
   "source": [
    "from sklearn.model_selection import train_test_split\n",
    "from sklearn.ensemble import RandomForestClassifier"
   ]
  },
  {
   "cell_type": "markdown",
   "metadata": {},
   "source": [
    "### Prepare data"
   ]
  },
  {
   "cell_type": "code",
   "execution_count": 4,
   "metadata": {},
   "outputs": [],
   "source": [
    "features = master_df.loc[:,master_df.columns != 'perf_cat']\n",
    "features = features.loc[:,features.columns != 'leadtime']\n",
    "features = features.loc[:,features.columns != 'rsr']\n",
    "\n",
    "labels = master_df['perf_cat']"
   ]
  },
  {
   "cell_type": "code",
   "execution_count": 5,
   "metadata": {},
   "outputs": [],
   "source": [
    "train_features, test_features, train_labels, test_labels = train_test_split(features,\n",
    "                                                                            labels,\n",
    "                                                                            test_size=0.3,\n",
    "                                                                            random_state=42)"
   ]
  },
  {
   "cell_type": "code",
   "execution_count": 6,
   "metadata": {},
   "outputs": [
    {
     "name": "stdout",
     "output_type": "stream",
     "text": [
      "Train features dims: (71390, 20)\n",
      "Test features dims: (30597, 20)\n",
      "Train labels dims: (71390,)\n",
      "Test labels dims: (30597,)\n"
     ]
    }
   ],
   "source": [
    "print('Train features dims: ' + str(train_features.shape))\n",
    "print('Test features dims: ' + str(test_features.shape))\n",
    "print('Train labels dims: ' + str(train_labels.shape))\n",
    "print('Test labels dims: ' + str(test_labels.shape))"
   ]
  },
  {
   "cell_type": "code",
   "execution_count": 7,
   "metadata": {},
   "outputs": [
    {
     "data": {
      "text/plain": [
       "RandomForestClassifier(bootstrap=True, class_weight=None, criterion='gini',\n",
       "            max_depth=None, max_features='auto', max_leaf_nodes=None,\n",
       "            min_impurity_decrease=0.0, min_impurity_split=None,\n",
       "            min_samples_leaf=1, min_samples_split=2,\n",
       "            min_weight_fraction_leaf=0.0, n_estimators=100, n_jobs=4,\n",
       "            oob_score=False, random_state=42, verbose=0, warm_start=False)"
      ]
     },
     "execution_count": 7,
     "metadata": {},
     "output_type": "execute_result"
    }
   ],
   "source": [
    "clf = RandomForestClassifier(n_jobs=4,random_state=42, n_estimators=100)\n",
    "clf.fit(train_features,train_labels)"
   ]
  },
  {
   "cell_type": "code",
   "execution_count": 8,
   "metadata": {},
   "outputs": [
    {
     "data": {
      "text/html": [
       "<div>\n",
       "<style scoped>\n",
       "    .dataframe tbody tr th:only-of-type {\n",
       "        vertical-align: middle;\n",
       "    }\n",
       "\n",
       "    .dataframe tbody tr th {\n",
       "        vertical-align: top;\n",
       "    }\n",
       "\n",
       "    .dataframe thead th {\n",
       "        text-align: right;\n",
       "    }\n",
       "</style>\n",
       "<table border=\"1\" class=\"dataframe\">\n",
       "  <thead>\n",
       "    <tr style=\"text-align: right;\">\n",
       "      <th></th>\n",
       "      <th>feature</th>\n",
       "      <th>value</th>\n",
       "    </tr>\n",
       "  </thead>\n",
       "  <tbody>\n",
       "    <tr>\n",
       "      <th>0</th>\n",
       "      <td>DRAIN_SQKM</td>\n",
       "      <td>0.123907</td>\n",
       "    </tr>\n",
       "    <tr>\n",
       "      <th>11</th>\n",
       "      <td>NDAMS_2009</td>\n",
       "      <td>0.104699</td>\n",
       "    </tr>\n",
       "    <tr>\n",
       "      <th>2</th>\n",
       "      <td>WD_BASIN</td>\n",
       "      <td>0.068570</td>\n",
       "    </tr>\n",
       "    <tr>\n",
       "      <th>8</th>\n",
       "      <td>RUNAVE7100</td>\n",
       "      <td>0.060756</td>\n",
       "    </tr>\n",
       "    <tr>\n",
       "      <th>7</th>\n",
       "      <td>TOPWET</td>\n",
       "      <td>0.060282</td>\n",
       "    </tr>\n",
       "    <tr>\n",
       "      <th>6</th>\n",
       "      <td>MAINSTEM_SINUOUSITY</td>\n",
       "      <td>0.058869</td>\n",
       "    </tr>\n",
       "    <tr>\n",
       "      <th>3</th>\n",
       "      <td>SNOW_PCT_PRECIP</td>\n",
       "      <td>0.051104</td>\n",
       "    </tr>\n",
       "    <tr>\n",
       "      <th>14</th>\n",
       "      <td>HIRES_LENTIC_DENS</td>\n",
       "      <td>0.046873</td>\n",
       "    </tr>\n",
       "    <tr>\n",
       "      <th>9</th>\n",
       "      <td>PCT_1ST_ORDER</td>\n",
       "      <td>0.046871</td>\n",
       "    </tr>\n",
       "    <tr>\n",
       "      <th>4</th>\n",
       "      <td>PRECIP_SEAS_IND</td>\n",
       "      <td>0.046017</td>\n",
       "    </tr>\n",
       "    <tr>\n",
       "      <th>17</th>\n",
       "      <td>SILTAVE</td>\n",
       "      <td>0.041894</td>\n",
       "    </tr>\n",
       "    <tr>\n",
       "      <th>16</th>\n",
       "      <td>CLAYAVE</td>\n",
       "      <td>0.041598</td>\n",
       "    </tr>\n",
       "    <tr>\n",
       "      <th>18</th>\n",
       "      <td>SANDAVE</td>\n",
       "      <td>0.040648</td>\n",
       "    </tr>\n",
       "    <tr>\n",
       "      <th>15</th>\n",
       "      <td>HIRES_LENTIC_MEANSIZ</td>\n",
       "      <td>0.040007</td>\n",
       "    </tr>\n",
       "    <tr>\n",
       "      <th>5</th>\n",
       "      <td>STREAMS_KM_SQ_KM</td>\n",
       "      <td>0.039064</td>\n",
       "    </tr>\n",
       "    <tr>\n",
       "      <th>1</th>\n",
       "      <td>HYDRO_DISTURB_INDX</td>\n",
       "      <td>0.038884</td>\n",
       "    </tr>\n",
       "    <tr>\n",
       "      <th>10</th>\n",
       "      <td>PCT_6TH_ORDER_OR_MORE</td>\n",
       "      <td>0.032201</td>\n",
       "    </tr>\n",
       "    <tr>\n",
       "      <th>13</th>\n",
       "      <td>PCT_IRRIG_AG</td>\n",
       "      <td>0.029704</td>\n",
       "    </tr>\n",
       "    <tr>\n",
       "      <th>12</th>\n",
       "      <td>CANALS_PCT</td>\n",
       "      <td>0.024975</td>\n",
       "    </tr>\n",
       "    <tr>\n",
       "      <th>19</th>\n",
       "      <td>is_ref</td>\n",
       "      <td>0.003077</td>\n",
       "    </tr>\n",
       "  </tbody>\n",
       "</table>\n",
       "</div>"
      ],
      "text/plain": [
       "                  feature     value\n",
       "0              DRAIN_SQKM  0.123907\n",
       "11             NDAMS_2009  0.104699\n",
       "2                WD_BASIN  0.068570\n",
       "8              RUNAVE7100  0.060756\n",
       "7                  TOPWET  0.060282\n",
       "6     MAINSTEM_SINUOUSITY  0.058869\n",
       "3         SNOW_PCT_PRECIP  0.051104\n",
       "14      HIRES_LENTIC_DENS  0.046873\n",
       "9           PCT_1ST_ORDER  0.046871\n",
       "4         PRECIP_SEAS_IND  0.046017\n",
       "17                SILTAVE  0.041894\n",
       "16                CLAYAVE  0.041598\n",
       "18                SANDAVE  0.040648\n",
       "15   HIRES_LENTIC_MEANSIZ  0.040007\n",
       "5        STREAMS_KM_SQ_KM  0.039064\n",
       "1      HYDRO_DISTURB_INDX  0.038884\n",
       "10  PCT_6TH_ORDER_OR_MORE  0.032201\n",
       "13           PCT_IRRIG_AG  0.029704\n",
       "12             CANALS_PCT  0.024975\n",
       "19                 is_ref  0.003077"
      ]
     },
     "execution_count": 8,
     "metadata": {},
     "output_type": "execute_result"
    }
   ],
   "source": [
    "feature_imp = pd.DataFrame(list(zip(train_features.columns,clf.feature_importances_)),columns=['feature','value'])\n",
    "feature_imp.sort_values(by='value',ascending=False)"
   ]
  },
  {
   "cell_type": "code",
   "execution_count": 22,
   "metadata": {
    "scrolled": false
   },
   "outputs": [
    {
     "data": {
      "text/plain": [
       "<matplotlib.axes._subplots.AxesSubplot at 0x1a2948db00>"
      ]
     },
     "execution_count": 22,
     "metadata": {},
     "output_type": "execute_result"
    },
    {
     "data": {
      "image/png": "[encoded data removed]",
      "text/plain": [
       "<Figure size 2592x432 with 1 Axes>"
      ]
     },
     "metadata": {
      "needs_background": "light"
     },
     "output_type": "display_data"
    }
   ],
   "source": [
    "plt.figure(figsize=(36,6))\n",
    "sns.barplot(x='feature', y='value', data=feature_imp)"
   ]
  },
  {
   "cell_type": "code",
   "execution_count": 10,
   "metadata": {},
   "outputs": [],
   "source": [
    "y_pred = clf.predict(test_features)"
   ]
  },
  {
   "cell_type": "code",
   "execution_count": 11,
   "metadata": {},
   "outputs": [],
   "source": [
    "from sklearn import metrics"
   ]
  },
  {
   "cell_type": "code",
   "execution_count": 16,
   "metadata": {
    "scrolled": true
   },
   "outputs": [
    {
     "name": "stdout",
     "output_type": "stream",
     "text": [
      "              precision    recall  f1-score   support\n",
      "\n",
      "         bad       0.84      0.95      0.89     22208\n",
      "        good       0.79      0.54      0.64      8389\n",
      "\n",
      "   micro avg       0.83      0.83      0.83     30597\n",
      "   macro avg       0.82      0.74      0.77     30597\n",
      "weighted avg       0.83      0.83      0.82     30597\n",
      "\n"
     ]
    }
   ],
   "source": [
    "print(metrics.classification_report(test_labels,y_pred))"
   ]
  }
 ],
 "metadata": {
  "kernelspec": {
   "display_name": "Python 3",
   "language": "python",
   "name": "python3"
  },
  "language_info": {
   "codemirror_mode": {
    "name": "ipython",
    "version": 3
   },
   "file_extension": ".py",
   "mimetype": "text/x-python",
   "name": "python",
   "nbconvert_exporter": "python",
   "pygments_lexer": "ipython3",
   "version": "3.7.0"
  }
 },
 "nbformat": 4,
 "nbformat_minor": 2
}
