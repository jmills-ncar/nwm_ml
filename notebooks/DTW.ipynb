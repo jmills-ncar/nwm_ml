{
 "cells": [
  {
   "cell_type": "markdown",
   "metadata": {
    "toc": true
   },
   "source": [
    "<h1>Table of Contents<span class=\"tocSkip\"></span></h1>\n",
    "<div class=\"toc\"><ul class=\"toc-item\"></ul></div>"
   ]
  },
  {
   "cell_type": "code",
   "execution_count": 1,
   "metadata": {},
   "outputs": [],
   "source": [
    "import pandas as pd\n",
    "import numpy as np\n",
    "pd.options.display.max_columns = None\n",
    "import seaborn as sns\n",
    "import matplotlib.pyplot as plt\n",
    "import pathlib\n",
    "from sqlalchemy import create_engine\n",
    "from tslearn.metrics import dtw_path\n",
    "%matplotlib inline"
   ]
  },
  {
   "cell_type": "code",
   "execution_count": 2,
   "metadata": {},
   "outputs": [],
   "source": [
    "# Establish database connection\n",
    "with pathlib.Path('/Users/jmills/dbcon').open() as f:\n",
    "    dbcon = f.readlines()\n",
    "dbcon = create_engine(dbcon[0])"
   ]
  },
  {
   "cell_type": "code",
   "execution_count": 3,
   "metadata": {},
   "outputs": [],
   "source": [
    "# Get some data\n",
    "ts = pd.read_sql(\"SELECT * FROM timeslice WHERE site_no='02105769'\",dbcon)\n",
    "mr = pd.read_sql(\"SELECT * FROM medium_range_channel_rt_1 WHERE \"\n",
    "                 \"feature_id=\" + str(ts['feature_id'][0]),dbcon)"
   ]
  },
  {
   "cell_type": "code",
   "execution_count": 4,
   "metadata": {},
   "outputs": [
    {
     "data": {
      "text/html": [
       "<div>\n",
       "<style scoped>\n",
       "    .dataframe tbody tr th:only-of-type {\n",
       "        vertical-align: middle;\n",
       "    }\n",
       "\n",
       "    .dataframe tbody tr th {\n",
       "        vertical-align: top;\n",
       "    }\n",
       "\n",
       "    .dataframe thead th {\n",
       "        text-align: right;\n",
       "    }\n",
       "</style>\n",
       "<table border=\"1\" class=\"dataframe\">\n",
       "  <thead>\n",
       "    <tr style=\"text-align: right;\">\n",
       "      <th></th>\n",
       "      <th>feature_id</th>\n",
       "      <th>site_no</th>\n",
       "      <th>time</th>\n",
       "      <th>streamflow</th>\n",
       "      <th>discharge_quality</th>\n",
       "    </tr>\n",
       "  </thead>\n",
       "  <tbody>\n",
       "    <tr>\n",
       "      <th>0</th>\n",
       "      <td>8834930</td>\n",
       "      <td>02105769</td>\n",
       "      <td>2018-09-11 05:00:00+00:00</td>\n",
       "      <td>37.66</td>\n",
       "      <td>100.0</td>\n",
       "    </tr>\n",
       "    <tr>\n",
       "      <th>1</th>\n",
       "      <td>8834930</td>\n",
       "      <td>02105769</td>\n",
       "      <td>2018-09-11 23:00:00+00:00</td>\n",
       "      <td>41.06</td>\n",
       "      <td>100.0</td>\n",
       "    </tr>\n",
       "    <tr>\n",
       "      <th>2</th>\n",
       "      <td>8834930</td>\n",
       "      <td>02105769</td>\n",
       "      <td>2018-09-11 13:00:00+00:00</td>\n",
       "      <td>38.23</td>\n",
       "      <td>100.0</td>\n",
       "    </tr>\n",
       "    <tr>\n",
       "      <th>3</th>\n",
       "      <td>8834930</td>\n",
       "      <td>02105769</td>\n",
       "      <td>2018-09-11 15:00:00+00:00</td>\n",
       "      <td>38.79</td>\n",
       "      <td>100.0</td>\n",
       "    </tr>\n",
       "    <tr>\n",
       "      <th>4</th>\n",
       "      <td>8834930</td>\n",
       "      <td>02105769</td>\n",
       "      <td>2018-09-11 20:00:00+00:00</td>\n",
       "      <td>40.21</td>\n",
       "      <td>100.0</td>\n",
       "    </tr>\n",
       "  </tbody>\n",
       "</table>\n",
       "</div>"
      ],
      "text/plain": [
       "   feature_id   site_no                      time  streamflow  \\\n",
       "0     8834930  02105769 2018-09-11 05:00:00+00:00       37.66   \n",
       "1     8834930  02105769 2018-09-11 23:00:00+00:00       41.06   \n",
       "2     8834930  02105769 2018-09-11 13:00:00+00:00       38.23   \n",
       "3     8834930  02105769 2018-09-11 15:00:00+00:00       38.79   \n",
       "4     8834930  02105769 2018-09-11 20:00:00+00:00       40.21   \n",
       "\n",
       "   discharge_quality  \n",
       "0              100.0  \n",
       "1              100.0  \n",
       "2              100.0  \n",
       "3              100.0  \n",
       "4              100.0  "
      ]
     },
     "execution_count": 4,
     "metadata": {},
     "output_type": "execute_result"
    }
   ],
   "source": [
    "ts.head()"
   ]
  },
  {
   "cell_type": "code",
   "execution_count": 5,
   "metadata": {},
   "outputs": [
    {
     "data": {
      "text/html": [
       "<div>\n",
       "<style scoped>\n",
       "    .dataframe tbody tr th:only-of-type {\n",
       "        vertical-align: middle;\n",
       "    }\n",
       "\n",
       "    .dataframe tbody tr th {\n",
       "        vertical-align: top;\n",
       "    }\n",
       "\n",
       "    .dataframe thead th {\n",
       "        text-align: right;\n",
       "    }\n",
       "</style>\n",
       "<table border=\"1\" class=\"dataframe\">\n",
       "  <thead>\n",
       "    <tr style=\"text-align: right;\">\n",
       "      <th></th>\n",
       "      <th>feature_id</th>\n",
       "      <th>reference_time</th>\n",
       "      <th>time</th>\n",
       "      <th>streamflow</th>\n",
       "      <th>leadtime</th>\n",
       "      <th>member</th>\n",
       "    </tr>\n",
       "  </thead>\n",
       "  <tbody>\n",
       "    <tr>\n",
       "      <th>0</th>\n",
       "      <td>8834930</td>\n",
       "      <td>2018-09-11 06:00:00+00:00</td>\n",
       "      <td>2018-09-12 09:00:00+00:00</td>\n",
       "      <td>39.38</td>\n",
       "      <td>27.0</td>\n",
       "      <td>1</td>\n",
       "    </tr>\n",
       "    <tr>\n",
       "      <th>1</th>\n",
       "      <td>8834930</td>\n",
       "      <td>2018-09-26 06:00:00+00:00</td>\n",
       "      <td>2018-10-04 12:00:00+00:00</td>\n",
       "      <td>474.60</td>\n",
       "      <td>198.0</td>\n",
       "      <td>1</td>\n",
       "    </tr>\n",
       "    <tr>\n",
       "      <th>2</th>\n",
       "      <td>8834930</td>\n",
       "      <td>2018-10-03 00:00:00+00:00</td>\n",
       "      <td>2018-10-09 00:00:00+00:00</td>\n",
       "      <td>192.52</td>\n",
       "      <td>144.0</td>\n",
       "      <td>1</td>\n",
       "    </tr>\n",
       "    <tr>\n",
       "      <th>3</th>\n",
       "      <td>8834930</td>\n",
       "      <td>2018-09-26 18:00:00+00:00</td>\n",
       "      <td>2018-09-30 21:00:00+00:00</td>\n",
       "      <td>520.34</td>\n",
       "      <td>99.0</td>\n",
       "      <td>1</td>\n",
       "    </tr>\n",
       "    <tr>\n",
       "      <th>4</th>\n",
       "      <td>8834930</td>\n",
       "      <td>2018-09-29 06:00:00+00:00</td>\n",
       "      <td>2018-10-06 12:00:00+00:00</td>\n",
       "      <td>228.25</td>\n",
       "      <td>174.0</td>\n",
       "      <td>1</td>\n",
       "    </tr>\n",
       "  </tbody>\n",
       "</table>\n",
       "</div>"
      ],
      "text/plain": [
       "   feature_id            reference_time                      time  streamflow  \\\n",
       "0     8834930 2018-09-11 06:00:00+00:00 2018-09-12 09:00:00+00:00       39.38   \n",
       "1     8834930 2018-09-26 06:00:00+00:00 2018-10-04 12:00:00+00:00      474.60   \n",
       "2     8834930 2018-10-03 00:00:00+00:00 2018-10-09 00:00:00+00:00      192.52   \n",
       "3     8834930 2018-09-26 18:00:00+00:00 2018-09-30 21:00:00+00:00      520.34   \n",
       "4     8834930 2018-09-29 06:00:00+00:00 2018-10-06 12:00:00+00:00      228.25   \n",
       "\n",
       "   leadtime  member  \n",
       "0      27.0       1  \n",
       "1     198.0       1  \n",
       "2     144.0       1  \n",
       "3      99.0       1  \n",
       "4     174.0       1  "
      ]
     },
     "execution_count": 5,
     "metadata": {},
     "output_type": "execute_result"
    }
   ],
   "source": [
    "mr.head()"
   ]
  },
  {
   "cell_type": "code",
   "execution_count": 6,
   "metadata": {
    "scrolled": true
   },
   "outputs": [],
   "source": [
    "df = pd.merge(mr,ts,on=['feature_id','time'],how='left',suffixes=['_mod','_obs'])"
   ]
  },
  {
   "cell_type": "code",
   "execution_count": 7,
   "metadata": {},
   "outputs": [
    {
     "data": {
      "text/html": [
       "<div>\n",
       "<style scoped>\n",
       "    .dataframe tbody tr th:only-of-type {\n",
       "        vertical-align: middle;\n",
       "    }\n",
       "\n",
       "    .dataframe tbody tr th {\n",
       "        vertical-align: top;\n",
       "    }\n",
       "\n",
       "    .dataframe thead th {\n",
       "        text-align: right;\n",
       "    }\n",
       "</style>\n",
       "<table border=\"1\" class=\"dataframe\">\n",
       "  <thead>\n",
       "    <tr style=\"text-align: right;\">\n",
       "      <th></th>\n",
       "      <th>feature_id</th>\n",
       "      <th>reference_time</th>\n",
       "      <th>time</th>\n",
       "      <th>streamflow_mod</th>\n",
       "      <th>leadtime</th>\n",
       "      <th>member</th>\n",
       "      <th>site_no</th>\n",
       "      <th>streamflow_obs</th>\n",
       "      <th>discharge_quality</th>\n",
       "    </tr>\n",
       "  </thead>\n",
       "  <tbody>\n",
       "    <tr>\n",
       "      <th>0</th>\n",
       "      <td>8834930</td>\n",
       "      <td>2018-09-11 06:00:00+00:00</td>\n",
       "      <td>2018-09-12 09:00:00+00:00</td>\n",
       "      <td>39.38</td>\n",
       "      <td>27.0</td>\n",
       "      <td>1</td>\n",
       "      <td>02105769</td>\n",
       "      <td>43.89</td>\n",
       "      <td>100.0</td>\n",
       "    </tr>\n",
       "    <tr>\n",
       "      <th>1</th>\n",
       "      <td>8834930</td>\n",
       "      <td>2018-09-11 06:00:00+00:00</td>\n",
       "      <td>2018-09-12 09:00:00+00:00</td>\n",
       "      <td>39.38</td>\n",
       "      <td>27.0</td>\n",
       "      <td>1</td>\n",
       "      <td>02105769</td>\n",
       "      <td>43.89</td>\n",
       "      <td>100.0</td>\n",
       "    </tr>\n",
       "    <tr>\n",
       "      <th>2</th>\n",
       "      <td>8834930</td>\n",
       "      <td>2018-09-26 06:00:00+00:00</td>\n",
       "      <td>2018-10-04 12:00:00+00:00</td>\n",
       "      <td>474.60</td>\n",
       "      <td>198.0</td>\n",
       "      <td>1</td>\n",
       "      <td>02105769</td>\n",
       "      <td>407.76</td>\n",
       "      <td>100.0</td>\n",
       "    </tr>\n",
       "    <tr>\n",
       "      <th>3</th>\n",
       "      <td>8834930</td>\n",
       "      <td>2018-09-26 06:00:00+00:00</td>\n",
       "      <td>2018-10-04 12:00:00+00:00</td>\n",
       "      <td>474.60</td>\n",
       "      <td>198.0</td>\n",
       "      <td>1</td>\n",
       "      <td>02105769</td>\n",
       "      <td>407.76</td>\n",
       "      <td>100.0</td>\n",
       "    </tr>\n",
       "    <tr>\n",
       "      <th>4</th>\n",
       "      <td>8834930</td>\n",
       "      <td>2018-10-03 00:00:00+00:00</td>\n",
       "      <td>2018-10-09 00:00:00+00:00</td>\n",
       "      <td>192.52</td>\n",
       "      <td>144.0</td>\n",
       "      <td>1</td>\n",
       "      <td>02105769</td>\n",
       "      <td>322.81</td>\n",
       "      <td>100.0</td>\n",
       "    </tr>\n",
       "  </tbody>\n",
       "</table>\n",
       "</div>"
      ],
      "text/plain": [
       "   feature_id            reference_time                      time  \\\n",
       "0     8834930 2018-09-11 06:00:00+00:00 2018-09-12 09:00:00+00:00   \n",
       "1     8834930 2018-09-11 06:00:00+00:00 2018-09-12 09:00:00+00:00   \n",
       "2     8834930 2018-09-26 06:00:00+00:00 2018-10-04 12:00:00+00:00   \n",
       "3     8834930 2018-09-26 06:00:00+00:00 2018-10-04 12:00:00+00:00   \n",
       "4     8834930 2018-10-03 00:00:00+00:00 2018-10-09 00:00:00+00:00   \n",
       "\n",
       "   streamflow_mod  leadtime  member   site_no  streamflow_obs  \\\n",
       "0           39.38      27.0       1  02105769           43.89   \n",
       "1           39.38      27.0       1  02105769           43.89   \n",
       "2          474.60     198.0       1  02105769          407.76   \n",
       "3          474.60     198.0       1  02105769          407.76   \n",
       "4          192.52     144.0       1  02105769          322.81   \n",
       "\n",
       "   discharge_quality  \n",
       "0              100.0  \n",
       "1              100.0  \n",
       "2              100.0  \n",
       "3              100.0  \n",
       "4              100.0  "
      ]
     },
     "execution_count": 7,
     "metadata": {},
     "output_type": "execute_result"
    }
   ],
   "source": [
    "df.head()"
   ]
  },
  {
   "cell_type": "code",
   "execution_count": 8,
   "metadata": {},
   "outputs": [],
   "source": [
    "df_lt120 = df[df['leadtime'] == 120].sort_values('time')"
   ]
  },
  {
   "cell_type": "code",
   "execution_count": 9,
   "metadata": {},
   "outputs": [],
   "source": [
    "df_lt120.dropna(inplace=True)"
   ]
  },
  {
   "cell_type": "code",
   "execution_count": 10,
   "metadata": {},
   "outputs": [
    {
     "name": "stderr",
     "output_type": "stream",
     "text": [
      "/Volumes/d1/jmills/miniconda3/envs/nwm_ml/lib/python3.7/site-packages/scipy/stats/stats.py:1713: FutureWarning: Using a non-tuple sequence for multidimensional indexing is deprecated; use `arr[tuple(seq)]` instead of `arr[seq]`. In the future this will be interpreted as an array index, `arr[np.array(seq)]`, which will result either in an error or a different result.\n",
      "  return np.add.reduce(sorted[indexer] * weights, axis=axis) / sumval\n"
     ]
    },
    {
     "data": {
      "text/plain": [
       "<matplotlib.axes._subplots.AxesSubplot at 0x1a2058c0b8>"
      ]
     },
     "execution_count": 10,
     "metadata": {},
     "output_type": "execute_result"
    },
    {
     "data": {
      "image/png": "[encoded data removed]",
      "text/plain": [
       "<Figure size 432x288 with 1 Axes>"
      ]
     },
     "metadata": {
      "needs_background": "light"
     },
     "output_type": "display_data"
    }
   ],
   "source": [
    "fig, ax = plt.subplots()\n",
    "sns.lineplot(x='time',y='streamflow_mod',data=df_lt120,ax=ax)\n",
    "sns.lineplot(x='time',y='streamflow_obs',data=df_lt120,ax=ax)"
   ]
  },
  {
   "cell_type": "code",
   "execution_count": 11,
   "metadata": {},
   "outputs": [],
   "source": [
    "path, score = dtw_path(s1=df_lt120['streamflow_mod'],\n",
    "                       s2=df_lt120['streamflow_obs'],\n",
    "                       global_constraint='sakoe_chiba',\n",
    "                       sakoe_chiba_radius=3)"
   ]
  },
  {
   "cell_type": "code",
   "execution_count": 12,
   "metadata": {},
   "outputs": [
    {
     "data": {
      "text/plain": [
       "0.947582993593477"
      ]
     },
     "execution_count": 12,
     "metadata": {},
     "output_type": "execute_result"
    }
   ],
   "source": [
    "path_df = pd.DataFrame(path)\n",
    "(path_df[0]-path_df[1]).mean()"
   ]
  },
  {
   "cell_type": "code",
   "execution_count": 13,
   "metadata": {},
   "outputs": [
    {
     "data": {
      "text/plain": [
       "<matplotlib.axes._subplots.AxesSubplot at 0x1a21a9a518>"
      ]
     },
     "execution_count": 13,
     "metadata": {},
     "output_type": "execute_result"
    },
    {
     "data": {
      "image/png": "[encoded data removed]",
      "text/plain": [
       "<Figure size 432x288 with 1 Axes>"
      ]
     },
     "metadata": {
      "needs_background": "light"
     },
     "output_type": "display_data"
    }
   ],
   "source": [
    "sns.distplot(path_df[0]-path_df[1])"
   ]
  },
  {
   "cell_type": "code",
   "execution_count": 14,
   "metadata": {},
   "outputs": [
    {
     "data": {
      "image/png": "[encoded data removed]",
      "text/plain": [
       "<Figure size 720x720 with 1 Axes>"
      ]
     },
     "metadata": {
      "needs_background": "light"
     },
     "output_type": "display_data"
    }
   ],
   "source": [
    "plt.figure(figsize=(10,10))\n",
    "plt.plot(df_lt120['time'], df_lt120['streamflow_mod'] ,label='mod')\n",
    "plt.plot(df_lt120['time'], df_lt120['streamflow_obs'] ,label='obs')\n",
    "plt.legend();\n",
    "for [map_x, map_y] in path[::5]:\n",
    "#    #print map_x, x[map_x], \":\", map_y, y[map_y]\n",
    "    \n",
    "    plt.plot([df_lt120['time'].iloc[map_x], df_lt120['time'].iloc[map_y]], \n",
    "              [df_lt120['streamflow_mod'].iloc[map_x], df_lt120['streamflow_obs'].iloc[map_y]], 'r', alpha=0.2)"
   ]
  }
 ],
 "metadata": {
  "kernelspec": {
   "display_name": "Python 3",
   "language": "python",
   "name": "python3"
  },
  "language_info": {
   "codemirror_mode": {
    "name": "ipython",
    "version": 3
   },
   "file_extension": ".py",
   "mimetype": "text/x-python",
   "name": "python",
   "nbconvert_exporter": "python",
   "pygments_lexer": "ipython3",
   "version": "3.7.0"
  },
  "toc": {
   "base_numbering": 1,
   "nav_menu": {},
   "number_sections": true,
   "sideBar": true,
   "skip_h1_title": false,
   "title_cell": "Table of Contents",
   "title_sidebar": "Contents",
   "toc_cell": true,
   "toc_position": {},
   "toc_section_display": true,
   "toc_window_display": false
  }
 },
 "nbformat": 4,
 "nbformat_minor": 2
}
